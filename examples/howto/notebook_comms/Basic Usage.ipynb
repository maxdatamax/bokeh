{
 "cells": [
  {
   "cell_type": "code",
   "execution_count": 1,
   "metadata": {},
   "outputs": [
    {
     "data": {
      "text/html": [
       "\n",
       "    <div class=\"bk-root\">\n",
       "        <a href=\"https://bokeh.pydata.org\" target=\"_blank\" class=\"bk-logo bk-logo-small bk-logo-notebook\"></a>\n",
       "        <span id=\"e30ea8b8-f3c0-4ef2-aff0-f39e6c1dfd0a\">Loading BokehJS ...</span>\n",
       "    </div>"
      ]
     },
     "metadata": {},
     "output_type": "display_data"
    },
    {
     "data": {
      "application/javascript": [
       "\n",
       "(function(root) {\n",
       "  function now() {\n",
       "    return new Date();\n",
       "  }\n",
       "\n",
       "  var force = true;\n",
       "\n",
       "  if (typeof (root._bokeh_onload_callbacks) === \"undefined\" || force === true) {\n",
       "    root._bokeh_onload_callbacks = [];\n",
       "    root._bokeh_is_loading = undefined;\n",
       "  }\n",
       "\n",
       "  var JS_MIME_TYPE = 'application/javascript';\n",
       "  var HTML_MIME_TYPE = 'text/html';\n",
       "  var EXEC_MIME_TYPE = 'application/vnd.bokehjs_exec.v0+json';\n",
       "  var CLASS_NAME = 'output_bokeh rendered_html';\n",
       "\n",
       "  /**\n",
       "   * Render data to the DOM node\n",
       "   */\n",
       "  function render(props, node) {\n",
       "    var script = document.createElement(\"script\");\n",
       "    node.appendChild(script);\n",
       "  }\n",
       "\n",
       "  /**\n",
       "   * Handle when an output is cleared or removed\n",
       "   */\n",
       "  function handleClearOutput(event, handle) {\n",
       "    var cell = handle.cell;\n",
       "\n",
       "    var id = cell.output_area._bokeh_element_id;\n",
       "    var server_id = cell.output_area._bokeh_server_id;\n",
       "    // Clean up Bokeh references\n",
       "    if (id !== undefined) {\n",
       "      Bokeh.index[id].model.document.clear();\n",
       "      delete Bokeh.index[id];\n",
       "    }\n",
       "\n",
       "    if (server_id !== undefined) {\n",
       "      // Clean up Bokeh references\n",
       "      var cmd = \"from bokeh.io.state import curstate; print(curstate().uuid_to_server['\" + server_id + \"'].get_sessions()[0].document.roots[0]._id)\";\n",
       "      cell.notebook.kernel.execute(cmd, {\n",
       "        iopub: {\n",
       "          output: function(msg) {\n",
       "            var element_id = msg.content.text.trim();\n",
       "            Bokeh.index[element_id].model.document.clear();\n",
       "            delete Bokeh.index[element_id];\n",
       "          }\n",
       "        }\n",
       "      });\n",
       "      // Destroy server and session\n",
       "      var cmd = \"import bokeh.io.notebook as ion; ion.destroy_server('\" + server_id + \"')\";\n",
       "      cell.notebook.kernel.execute(cmd);\n",
       "    }\n",
       "  }\n",
       "\n",
       "  /**\n",
       "   * Handle when a new output is added\n",
       "   */\n",
       "  function handleAddOutput(event, handle) {\n",
       "    var output_area = handle.output_area;\n",
       "    var output = handle.output;\n",
       "\n",
       "    // limit handleAddOutput to display_data with EXEC_MIME_TYPE content only\n",
       "    if ((output.output_type != \"display_data\") || (!output.data.hasOwnProperty(EXEC_MIME_TYPE))) {\n",
       "      return\n",
       "    }\n",
       "\n",
       "    var toinsert = output_area.element.find(\".\" + CLASS_NAME.split(' ')[0]);\n",
       "\n",
       "    if (output.metadata[EXEC_MIME_TYPE][\"id\"] !== undefined) {\n",
       "      toinsert[0].firstChild.textContent = output.data[JS_MIME_TYPE];\n",
       "      // store reference to embed id on output_area\n",
       "      output_area._bokeh_element_id = output.metadata[EXEC_MIME_TYPE][\"id\"];\n",
       "    }\n",
       "    if (output.metadata[EXEC_MIME_TYPE][\"server_id\"] !== undefined) {\n",
       "      var bk_div = document.createElement(\"div\");\n",
       "      bk_div.innerHTML = output.data[HTML_MIME_TYPE];\n",
       "      var script_attrs = bk_div.children[0].attributes;\n",
       "      for (var i = 0; i < script_attrs.length; i++) {\n",
       "        toinsert[0].firstChild.setAttribute(script_attrs[i].name, script_attrs[i].value);\n",
       "      }\n",
       "      // store reference to server id on output_area\n",
       "      output_area._bokeh_server_id = output.metadata[EXEC_MIME_TYPE][\"server_id\"];\n",
       "    }\n",
       "  }\n",
       "\n",
       "  function register_renderer(events, OutputArea) {\n",
       "\n",
       "    function append_mime(data, metadata, element) {\n",
       "      // create a DOM node to render to\n",
       "      var toinsert = this.create_output_subarea(\n",
       "        metadata,\n",
       "        CLASS_NAME,\n",
       "        EXEC_MIME_TYPE\n",
       "      );\n",
       "      this.keyboard_manager.register_events(toinsert);\n",
       "      // Render to node\n",
       "      var props = {data: data, metadata: metadata[EXEC_MIME_TYPE]};\n",
       "      render(props, toinsert[0]);\n",
       "      element.append(toinsert);\n",
       "      return toinsert\n",
       "    }\n",
       "\n",
       "    /* Handle when an output is cleared or removed */\n",
       "    events.on('clear_output.CodeCell', handleClearOutput);\n",
       "    events.on('delete.Cell', handleClearOutput);\n",
       "\n",
       "    /* Handle when a new output is added */\n",
       "    events.on('output_added.OutputArea', handleAddOutput);\n",
       "\n",
       "    /**\n",
       "     * Register the mime type and append_mime function with output_area\n",
       "     */\n",
       "    OutputArea.prototype.register_mime_type(EXEC_MIME_TYPE, append_mime, {\n",
       "      /* Is output safe? */\n",
       "      safe: true,\n",
       "      /* Index of renderer in `output_area.display_order` */\n",
       "      index: 0\n",
       "    });\n",
       "  }\n",
       "\n",
       "  // register the mime type if in Jupyter Notebook environment and previously unregistered\n",
       "  if (root.Jupyter !== undefined) {\n",
       "    var events = require('base/js/events');\n",
       "    var OutputArea = require('notebook/js/outputarea').OutputArea;\n",
       "\n",
       "    if (OutputArea.prototype.mime_types().indexOf(EXEC_MIME_TYPE) == -1) {\n",
       "      register_renderer(events, OutputArea);\n",
       "    }\n",
       "  }\n",
       "\n",
       "  \n",
       "  if (typeof (root._bokeh_timeout) === \"undefined\" || force === true) {\n",
       "    root._bokeh_timeout = Date.now() + 5000;\n",
       "    root._bokeh_failed_load = false;\n",
       "  }\n",
       "\n",
       "  var NB_LOAD_WARNING = {'data': {'text/html':\n",
       "     \"<div style='background-color: #fdd'>\\n\"+\n",
       "     \"<p>\\n\"+\n",
       "     \"BokehJS does not appear to have successfully loaded. If loading BokehJS from CDN, this \\n\"+\n",
       "     \"may be due to a slow or bad network connection. Possible fixes:\\n\"+\n",
       "     \"</p>\\n\"+\n",
       "     \"<ul>\\n\"+\n",
       "     \"<li>re-rerun `output_notebook()` to attempt to load from CDN again, or</li>\\n\"+\n",
       "     \"<li>use INLINE resources instead, as so:</li>\\n\"+\n",
       "     \"</ul>\\n\"+\n",
       "     \"<code>\\n\"+\n",
       "     \"from bokeh.resources import INLINE\\n\"+\n",
       "     \"output_notebook(resources=INLINE)\\n\"+\n",
       "     \"</code>\\n\"+\n",
       "     \"</div>\"}};\n",
       "\n",
       "  function display_loaded() {\n",
       "    var el = document.getElementById(\"e30ea8b8-f3c0-4ef2-aff0-f39e6c1dfd0a\");\n",
       "    if (el != null) {\n",
       "      el.textContent = \"BokehJS is loading...\";\n",
       "    }\n",
       "    if (root.Bokeh !== undefined) {\n",
       "      if (el != null) {\n",
       "        el.textContent = \"BokehJS \" + root.Bokeh.version + \" successfully loaded.\";\n",
       "      }\n",
       "    } else if (Date.now() < root._bokeh_timeout) {\n",
       "      setTimeout(display_loaded, 100)\n",
       "    }\n",
       "  }\n",
       "\n",
       "\n",
       "  function run_callbacks() {\n",
       "    try {\n",
       "      root._bokeh_onload_callbacks.forEach(function(callback) { callback() });\n",
       "    }\n",
       "    finally {\n",
       "      delete root._bokeh_onload_callbacks\n",
       "    }\n",
       "    console.info(\"Bokeh: all callbacks have finished\");\n",
       "  }\n",
       "\n",
       "  function load_libs(js_urls, callback) {\n",
       "    root._bokeh_onload_callbacks.push(callback);\n",
       "    if (root._bokeh_is_loading > 0) {\n",
       "      console.log(\"Bokeh: BokehJS is being loaded, scheduling callback at\", now());\n",
       "      return null;\n",
       "    }\n",
       "    if (js_urls == null || js_urls.length === 0) {\n",
       "      run_callbacks();\n",
       "      return null;\n",
       "    }\n",
       "    console.log(\"Bokeh: BokehJS not loaded, scheduling load and callback at\", now());\n",
       "    root._bokeh_is_loading = js_urls.length;\n",
       "    for (var i = 0; i < js_urls.length; i++) {\n",
       "      var url = js_urls[i];\n",
       "      var s = document.createElement('script');\n",
       "      s.src = url;\n",
       "      s.async = false;\n",
       "      s.onreadystatechange = s.onload = function() {\n",
       "        root._bokeh_is_loading--;\n",
       "        if (root._bokeh_is_loading === 0) {\n",
       "          console.log(\"Bokeh: all BokehJS libraries loaded\");\n",
       "          run_callbacks()\n",
       "        }\n",
       "      };\n",
       "      s.onerror = function() {\n",
       "        console.warn(\"failed to load library \" + url);\n",
       "      };\n",
       "      console.log(\"Bokeh: injecting script tag for BokehJS library: \", url);\n",
       "      document.getElementsByTagName(\"head\")[0].appendChild(s);\n",
       "    }\n",
       "  };var element = document.getElementById(\"e30ea8b8-f3c0-4ef2-aff0-f39e6c1dfd0a\");\n",
       "  if (element == null) {\n",
       "    console.log(\"Bokeh: ERROR: autoload.js configured with elementid 'e30ea8b8-f3c0-4ef2-aff0-f39e6c1dfd0a' but no matching script tag was found. \")\n",
       "    return false;\n",
       "  }\n",
       "\n",
       "  var js_urls = [\"https://cdn.pydata.org/bokeh/release/bokeh-0.12.13.min.js\", \"https://cdn.pydata.org/bokeh/release/bokeh-widgets-0.12.13.min.js\", \"https://cdn.pydata.org/bokeh/release/bokeh-tables-0.12.13.min.js\", \"https://cdn.pydata.org/bokeh/release/bokeh-gl-0.12.13.min.js\"];\n",
       "\n",
       "  var inline_js = [\n",
       "    function(Bokeh) {\n",
       "      Bokeh.set_log_level(\"info\");\n",
       "    },\n",
       "    \n",
       "    function(Bokeh) {\n",
       "      \n",
       "    },\n",
       "    function(Bokeh) {\n",
       "      console.log(\"Bokeh: injecting CSS: https://cdn.pydata.org/bokeh/release/bokeh-0.12.13.min.css\");\n",
       "      Bokeh.embed.inject_css(\"https://cdn.pydata.org/bokeh/release/bokeh-0.12.13.min.css\");\n",
       "      console.log(\"Bokeh: injecting CSS: https://cdn.pydata.org/bokeh/release/bokeh-widgets-0.12.13.min.css\");\n",
       "      Bokeh.embed.inject_css(\"https://cdn.pydata.org/bokeh/release/bokeh-widgets-0.12.13.min.css\");\n",
       "      console.log(\"Bokeh: injecting CSS: https://cdn.pydata.org/bokeh/release/bokeh-tables-0.12.13.min.css\");\n",
       "      Bokeh.embed.inject_css(\"https://cdn.pydata.org/bokeh/release/bokeh-tables-0.12.13.min.css\");\n",
       "    }\n",
       "  ];\n",
       "\n",
       "  function run_inline_js() {\n",
       "    \n",
       "    if ((root.Bokeh !== undefined) || (force === true)) {\n",
       "      for (var i = 0; i < inline_js.length; i++) {\n",
       "        inline_js[i].call(root, root.Bokeh);\n",
       "      }if (force === true) {\n",
       "        display_loaded();\n",
       "      }} else if (Date.now() < root._bokeh_timeout) {\n",
       "      setTimeout(run_inline_js, 100);\n",
       "    } else if (!root._bokeh_failed_load) {\n",
       "      console.log(\"Bokeh: BokehJS failed to load within specified timeout.\");\n",
       "      root._bokeh_failed_load = true;\n",
       "    } else if (force !== true) {\n",
       "      var cell = $(document.getElementById(\"e30ea8b8-f3c0-4ef2-aff0-f39e6c1dfd0a\")).parents('.cell').data().cell;\n",
       "      cell.output_area.append_execute_result(NB_LOAD_WARNING)\n",
       "    }\n",
       "\n",
       "  }\n",
       "\n",
       "  if (root._bokeh_is_loading === 0) {\n",
       "    console.log(\"Bokeh: BokehJS loaded, going straight to plotting\");\n",
       "    run_inline_js();\n",
       "  } else {\n",
       "    load_libs(js_urls, function() {\n",
       "      console.log(\"Bokeh: BokehJS plotting callback run at\", now());\n",
       "      run_inline_js();\n",
       "    });\n",
       "  }\n",
       "}(window));"
      ],
      "application/vnd.bokehjs_load.v0+json": "\n(function(root) {\n  function now() {\n    return new Date();\n  }\n\n  var force = true;\n\n  if (typeof (root._bokeh_onload_callbacks) === \"undefined\" || force === true) {\n    root._bokeh_onload_callbacks = [];\n    root._bokeh_is_loading = undefined;\n  }\n\n  \n\n  \n  if (typeof (root._bokeh_timeout) === \"undefined\" || force === true) {\n    root._bokeh_timeout = Date.now() + 5000;\n    root._bokeh_failed_load = false;\n  }\n\n  var NB_LOAD_WARNING = {'data': {'text/html':\n     \"<div style='background-color: #fdd'>\\n\"+\n     \"<p>\\n\"+\n     \"BokehJS does not appear to have successfully loaded. If loading BokehJS from CDN, this \\n\"+\n     \"may be due to a slow or bad network connection. Possible fixes:\\n\"+\n     \"</p>\\n\"+\n     \"<ul>\\n\"+\n     \"<li>re-rerun `output_notebook()` to attempt to load from CDN again, or</li>\\n\"+\n     \"<li>use INLINE resources instead, as so:</li>\\n\"+\n     \"</ul>\\n\"+\n     \"<code>\\n\"+\n     \"from bokeh.resources import INLINE\\n\"+\n     \"output_notebook(resources=INLINE)\\n\"+\n     \"</code>\\n\"+\n     \"</div>\"}};\n\n  function display_loaded() {\n    var el = document.getElementById(\"e30ea8b8-f3c0-4ef2-aff0-f39e6c1dfd0a\");\n    if (el != null) {\n      el.textContent = \"BokehJS is loading...\";\n    }\n    if (root.Bokeh !== undefined) {\n      if (el != null) {\n        el.textContent = \"BokehJS \" + root.Bokeh.version + \" successfully loaded.\";\n      }\n    } else if (Date.now() < root._bokeh_timeout) {\n      setTimeout(display_loaded, 100)\n    }\n  }\n\n\n  function run_callbacks() {\n    try {\n      root._bokeh_onload_callbacks.forEach(function(callback) { callback() });\n    }\n    finally {\n      delete root._bokeh_onload_callbacks\n    }\n    console.info(\"Bokeh: all callbacks have finished\");\n  }\n\n  function load_libs(js_urls, callback) {\n    root._bokeh_onload_callbacks.push(callback);\n    if (root._bokeh_is_loading > 0) {\n      console.log(\"Bokeh: BokehJS is being loaded, scheduling callback at\", now());\n      return null;\n    }\n    if (js_urls == null || js_urls.length === 0) {\n      run_callbacks();\n      return null;\n    }\n    console.log(\"Bokeh: BokehJS not loaded, scheduling load and callback at\", now());\n    root._bokeh_is_loading = js_urls.length;\n    for (var i = 0; i < js_urls.length; i++) {\n      var url = js_urls[i];\n      var s = document.createElement('script');\n      s.src = url;\n      s.async = false;\n      s.onreadystatechange = s.onload = function() {\n        root._bokeh_is_loading--;\n        if (root._bokeh_is_loading === 0) {\n          console.log(\"Bokeh: all BokehJS libraries loaded\");\n          run_callbacks()\n        }\n      };\n      s.onerror = function() {\n        console.warn(\"failed to load library \" + url);\n      };\n      console.log(\"Bokeh: injecting script tag for BokehJS library: \", url);\n      document.getElementsByTagName(\"head\")[0].appendChild(s);\n    }\n  };var element = document.getElementById(\"e30ea8b8-f3c0-4ef2-aff0-f39e6c1dfd0a\");\n  if (element == null) {\n    console.log(\"Bokeh: ERROR: autoload.js configured with elementid 'e30ea8b8-f3c0-4ef2-aff0-f39e6c1dfd0a' but no matching script tag was found. \")\n    return false;\n  }\n\n  var js_urls = [\"https://cdn.pydata.org/bokeh/release/bokeh-0.12.13.min.js\", \"https://cdn.pydata.org/bokeh/release/bokeh-widgets-0.12.13.min.js\", \"https://cdn.pydata.org/bokeh/release/bokeh-tables-0.12.13.min.js\", \"https://cdn.pydata.org/bokeh/release/bokeh-gl-0.12.13.min.js\"];\n\n  var inline_js = [\n    function(Bokeh) {\n      Bokeh.set_log_level(\"info\");\n    },\n    \n    function(Bokeh) {\n      \n    },\n    function(Bokeh) {\n      console.log(\"Bokeh: injecting CSS: https://cdn.pydata.org/bokeh/release/bokeh-0.12.13.min.css\");\n      Bokeh.embed.inject_css(\"https://cdn.pydata.org/bokeh/release/bokeh-0.12.13.min.css\");\n      console.log(\"Bokeh: injecting CSS: https://cdn.pydata.org/bokeh/release/bokeh-widgets-0.12.13.min.css\");\n      Bokeh.embed.inject_css(\"https://cdn.pydata.org/bokeh/release/bokeh-widgets-0.12.13.min.css\");\n      console.log(\"Bokeh: injecting CSS: https://cdn.pydata.org/bokeh/release/bokeh-tables-0.12.13.min.css\");\n      Bokeh.embed.inject_css(\"https://cdn.pydata.org/bokeh/release/bokeh-tables-0.12.13.min.css\");\n    }\n  ];\n\n  function run_inline_js() {\n    \n    if ((root.Bokeh !== undefined) || (force === true)) {\n      for (var i = 0; i < inline_js.length; i++) {\n        inline_js[i].call(root, root.Bokeh);\n      }if (force === true) {\n        display_loaded();\n      }} else if (Date.now() < root._bokeh_timeout) {\n      setTimeout(run_inline_js, 100);\n    } else if (!root._bokeh_failed_load) {\n      console.log(\"Bokeh: BokehJS failed to load within specified timeout.\");\n      root._bokeh_failed_load = true;\n    } else if (force !== true) {\n      var cell = $(document.getElementById(\"e30ea8b8-f3c0-4ef2-aff0-f39e6c1dfd0a\")).parents('.cell').data().cell;\n      cell.output_area.append_execute_result(NB_LOAD_WARNING)\n    }\n\n  }\n\n  if (root._bokeh_is_loading === 0) {\n    console.log(\"Bokeh: BokehJS loaded, going straight to plotting\");\n    run_inline_js();\n  } else {\n    load_libs(js_urls, function() {\n      console.log(\"Bokeh: BokehJS plotting callback run at\", now());\n      run_inline_js();\n    });\n  }\n}(window));"
     },
     "metadata": {},
     "output_type": "display_data"
    }
   ],
   "source": [
    "from bokeh.io import push_notebook, show, output_notebook\n",
    "from bokeh.layouts import row\n",
    "from bokeh.plotting import figure\n",
    "output_notebook()"
   ]
  },
  {
   "cell_type": "code",
   "execution_count": 2,
   "metadata": {},
   "outputs": [],
   "source": [
    "opts = dict(plot_width=250, plot_height=250, min_border=0)"
   ]
  },
  {
   "cell_type": "code",
   "execution_count": 3,
   "metadata": {},
   "outputs": [
    {
     "data": {
      "text/html": [
       "\n",
       "<div class=\"bk-root\">\n",
       "    <div class=\"bk-plotdiv\" id=\"b03a35a3-dbaa-4649-b074-4b8065107741\"></div>\n",
       "</div>"
      ]
     },
     "metadata": {},
     "output_type": "display_data"
    },
    {
     "data": {
      "application/javascript": [
       "(function(root) {\n",
       "  function embed_document(root) {\n",
       "    \n",
       "  var docs_json = {\"dffcd7d2-b235-4c4b-88a3-0b4f6558514d\":{\"roots\":{\"references\":[{\"attributes\":{},\"id\":\"d0366043-2919-4d40-8649-d1da7dd106ef\",\"type\":\"HelpTool\"},{\"attributes\":{},\"id\":\"e971415b-5010-4189-90aa-b00fb2314c17\",\"type\":\"BasicTickFormatter\"},{\"attributes\":{\"bottom_units\":\"screen\",\"fill_alpha\":{\"value\":0.5},\"fill_color\":{\"value\":\"lightgrey\"},\"left_units\":\"screen\",\"level\":\"overlay\",\"line_alpha\":{\"value\":1.0},\"line_color\":{\"value\":\"black\"},\"line_dash\":[4,4],\"line_width\":{\"value\":2},\"plot\":null,\"render_mode\":\"css\",\"right_units\":\"screen\",\"top_units\":\"screen\"},\"id\":\"9581bac8-fb5d-44fc-b29c-7c24dc899d90\",\"type\":\"BoxAnnotation\"},{\"attributes\":{\"active_drag\":\"auto\",\"active_inspect\":\"auto\",\"active_scroll\":\"auto\",\"active_tap\":\"auto\",\"tools\":[{\"id\":\"2a9ab79f-4756-40f8-bcca-f8a5698972a6\",\"type\":\"PanTool\"},{\"id\":\"a733b73d-a13f-4cad-aaca-c2e5c0ade991\",\"type\":\"WheelZoomTool\"},{\"id\":\"caf6d86b-ce7b-40a5-ad5c-2abe109b433b\",\"type\":\"BoxZoomTool\"},{\"id\":\"ab067c34-cd40-4687-84ac-082ec0b6e72f\",\"type\":\"SaveTool\"},{\"id\":\"8395cf17-05f3-4ad4-b10a-2c529a9a1159\",\"type\":\"ResetTool\"},{\"id\":\"d129cc7f-f9de-4f76-a009-a9ba4b6dc0da\",\"type\":\"HelpTool\"}]},\"id\":\"85268e4e-6f6c-46d1-9c97-458d97447c50\",\"type\":\"Toolbar\"},{\"attributes\":{\"plot\":{\"id\":\"c0627a98-9bda-4a2b-a0ce-fb9e510fc966\",\"subtype\":\"Figure\",\"type\":\"Plot\"},\"ticker\":{\"id\":\"bc869cc7-9b32-418c-a503-a9ccf34792a2\",\"type\":\"BasicTicker\"}},\"id\":\"4c6faa73-b42a-49f9-b35f-744d67a42f81\",\"type\":\"Grid\"},{\"attributes\":{\"source\":{\"id\":\"64d90bef-afaf-4d9c-bb79-698125ba7760\",\"type\":\"ColumnDataSource\"}},\"id\":\"3d616095-e454-4d70-aa15-3796770e5704\",\"type\":\"CDSView\"},{\"attributes\":{},\"id\":\"9d2e91a1-ba71-4ca9-b508-93a9ca0565cf\",\"type\":\"LinearScale\"},{\"attributes\":{\"callback\":null},\"id\":\"592a40c6-086d-437a-980d-dc88ba39e504\",\"type\":\"DataRange1d\"},{\"attributes\":{\"callback\":null},\"id\":\"8bcf4aa2-2c4c-498a-8e01-15decf47540a\",\"type\":\"DataRange1d\"},{\"attributes\":{\"callback\":null,\"column_names\":[\"x\",\"y\"],\"data\":{\"x\":[1,2,3],\"y\":[4,5,6]}},\"id\":\"64d90bef-afaf-4d9c-bb79-698125ba7760\",\"type\":\"ColumnDataSource\"},{\"attributes\":{},\"id\":\"6bcf6793-3bc8-4869-83a2-ab5c62928c8f\",\"type\":\"LinearScale\"},{\"attributes\":{\"below\":[{\"id\":\"371e5050-3063-4f49-a453-7af7b372a91c\",\"type\":\"LinearAxis\"}],\"left\":[{\"id\":\"a64e275c-05fc-49a0-a869-be696ccdc51e\",\"type\":\"LinearAxis\"}],\"min_border\":0,\"plot_height\":250,\"plot_width\":250,\"renderers\":[{\"id\":\"371e5050-3063-4f49-a453-7af7b372a91c\",\"type\":\"LinearAxis\"},{\"id\":\"5465e0ad-e7f5-4db9-b0ff-e576004823be\",\"type\":\"Grid\"},{\"id\":\"a64e275c-05fc-49a0-a869-be696ccdc51e\",\"type\":\"LinearAxis\"},{\"id\":\"6a1cc522-e8bd-4d57-bbe8-21615471a99f\",\"type\":\"Grid\"},{\"id\":\"9581bac8-fb5d-44fc-b29c-7c24dc899d90\",\"type\":\"BoxAnnotation\"},{\"id\":\"3493b01d-158a-421a-b1f4-02f9269ee8be\",\"type\":\"GlyphRenderer\"}],\"title\":{\"id\":\"fe27694d-4bee-4ef4-8e5f-1a04bf10c241\",\"type\":\"Title\"},\"toolbar\":{\"id\":\"1a78c3eb-7adc-426f-80cf-85f3d590716a\",\"type\":\"Toolbar\"},\"x_range\":{\"id\":\"a8103e24-1831-4507-af70-e94e04f692f7\",\"type\":\"DataRange1d\"},\"x_scale\":{\"id\":\"738e5c94-7472-4b71-aac4-84ca27baf4c7\",\"type\":\"LinearScale\"},\"y_range\":{\"id\":\"ec22a24a-e7f8-4b5d-9c84-27d1e80b55bc\",\"type\":\"DataRange1d\"},\"y_scale\":{\"id\":\"b574e935-b308-4dfb-b7b1-ece55232c2bf\",\"type\":\"LinearScale\"}},\"id\":\"72f9eb05-2321-4f39-8fbb-25bd9b722c67\",\"subtype\":\"Figure\",\"type\":\"Plot\"},{\"attributes\":{\"fill_alpha\":{\"value\":0.1},\"fill_color\":{\"value\":\"#1f77b4\"},\"line_alpha\":{\"value\":0.1},\"line_color\":{\"value\":\"#1f77b4\"},\"size\":{\"units\":\"screen\",\"value\":20},\"x\":{\"field\":\"x\"},\"y\":{\"field\":\"y\"}},\"id\":\"6423047c-384d-4d66-89bd-c174ba58f6c1\",\"type\":\"Circle\"},{\"attributes\":{\"formatter\":{\"id\":\"09f04cf6-5c4d-4da2-b6e4-eee756529223\",\"type\":\"BasicTickFormatter\"},\"plot\":{\"id\":\"c0627a98-9bda-4a2b-a0ce-fb9e510fc966\",\"subtype\":\"Figure\",\"type\":\"Plot\"},\"ticker\":{\"id\":\"bc869cc7-9b32-418c-a503-a9ccf34792a2\",\"type\":\"BasicTicker\"}},\"id\":\"ef596288-d556-4c68-8024-82f7181b63e9\",\"type\":\"LinearAxis\"},{\"attributes\":{\"active_drag\":\"auto\",\"active_inspect\":\"auto\",\"active_scroll\":\"auto\",\"active_tap\":\"auto\",\"tools\":[{\"id\":\"da356149-12f2-4e28-935d-94d58d1ea9eb\",\"type\":\"PanTool\"},{\"id\":\"e4902ba0-edc8-421a-b348-ef9c4c39f259\",\"type\":\"WheelZoomTool\"},{\"id\":\"c407e3af-4007-4ab5-920a-74de7f6c692b\",\"type\":\"BoxZoomTool\"},{\"id\":\"bc832fdd-339a-40d2-b6d5-bac7e7563206\",\"type\":\"SaveTool\"},{\"id\":\"e75f4ba6-ebad-4b16-8965-37262af6ffa5\",\"type\":\"ResetTool\"},{\"id\":\"d0366043-2919-4d40-8649-d1da7dd106ef\",\"type\":\"HelpTool\"}]},\"id\":\"1a78c3eb-7adc-426f-80cf-85f3d590716a\",\"type\":\"Toolbar\"},{\"attributes\":{\"plot\":null,\"text\":\"\"},\"id\":\"fe27694d-4bee-4ef4-8e5f-1a04bf10c241\",\"type\":\"Title\"},{\"attributes\":{},\"id\":\"bc869cc7-9b32-418c-a503-a9ccf34792a2\",\"type\":\"BasicTicker\"},{\"attributes\":{\"callback\":null},\"id\":\"a8103e24-1831-4507-af70-e94e04f692f7\",\"type\":\"DataRange1d\"},{\"attributes\":{\"formatter\":{\"id\":\"68b9d495-2213-4068-aa92-f66af8bbe975\",\"type\":\"BasicTickFormatter\"},\"plot\":{\"id\":\"c0627a98-9bda-4a2b-a0ce-fb9e510fc966\",\"subtype\":\"Figure\",\"type\":\"Plot\"},\"ticker\":{\"id\":\"d133ca73-108e-47f3-b29b-05af37677bd9\",\"type\":\"BasicTicker\"}},\"id\":\"c0d60f07-7234-4eee-8dec-9f8e396ac04f\",\"type\":\"LinearAxis\"},{\"attributes\":{},\"id\":\"15dd4a45-9e85-4f33-a01e-7028aa7969ed\",\"type\":\"BasicTickFormatter\"},{\"attributes\":{},\"id\":\"d133ca73-108e-47f3-b29b-05af37677bd9\",\"type\":\"BasicTicker\"},{\"attributes\":{\"callback\":null},\"id\":\"ec22a24a-e7f8-4b5d-9c84-27d1e80b55bc\",\"type\":\"DataRange1d\"},{\"attributes\":{\"dimension\":1,\"plot\":{\"id\":\"c0627a98-9bda-4a2b-a0ce-fb9e510fc966\",\"subtype\":\"Figure\",\"type\":\"Plot\"},\"ticker\":{\"id\":\"d133ca73-108e-47f3-b29b-05af37677bd9\",\"type\":\"BasicTicker\"}},\"id\":\"0a81e801-282d-4f4b-bedc-c973cb65f058\",\"type\":\"Grid\"},{\"attributes\":{},\"id\":\"738e5c94-7472-4b71-aac4-84ca27baf4c7\",\"type\":\"LinearScale\"},{\"attributes\":{\"data_source\":{\"id\":\"8ddf8a30-fe6f-429e-9d64-17920e79666d\",\"type\":\"ColumnDataSource\"},\"glyph\":{\"id\":\"ca8b0a22-72a7-4def-ae17-924fa837530e\",\"type\":\"Circle\"},\"hover_glyph\":null,\"muted_glyph\":null,\"nonselection_glyph\":{\"id\":\"6423047c-384d-4d66-89bd-c174ba58f6c1\",\"type\":\"Circle\"},\"selection_glyph\":null,\"view\":{\"id\":\"3353e201-f1b9-44ae-a46f-fe20762e4ddc\",\"type\":\"CDSView\"}},\"id\":\"e4fe0f1b-811f-466a-811c-3501c69b6967\",\"type\":\"GlyphRenderer\"},{\"attributes\":{},\"id\":\"b574e935-b308-4dfb-b7b1-ece55232c2bf\",\"type\":\"LinearScale\"},{\"attributes\":{\"fill_alpha\":{\"value\":0.1},\"fill_color\":{\"value\":\"#1f77b4\"},\"line_alpha\":{\"value\":0.1},\"line_color\":{\"value\":\"#1f77b4\"},\"size\":{\"units\":\"screen\",\"value\":20},\"x\":{\"field\":\"x\"},\"y\":{\"field\":\"y\"}},\"id\":\"23301856-2602-4a9c-bbeb-2a63451dcfc4\",\"type\":\"Circle\"},{\"attributes\":{\"children\":[{\"id\":\"72f9eb05-2321-4f39-8fbb-25bd9b722c67\",\"subtype\":\"Figure\",\"type\":\"Plot\"},{\"id\":\"c0627a98-9bda-4a2b-a0ce-fb9e510fc966\",\"subtype\":\"Figure\",\"type\":\"Plot\"}]},\"id\":\"30b8125c-8005-4334-8b09-7fbce15c0842\",\"type\":\"Row\"},{\"attributes\":{\"fill_color\":{\"value\":\"#1f77b4\"},\"line_color\":{\"value\":\"#1f77b4\"},\"size\":{\"units\":\"screen\",\"value\":20},\"x\":{\"field\":\"x\"},\"y\":{\"field\":\"y\"}},\"id\":\"ca8b0a22-72a7-4def-ae17-924fa837530e\",\"type\":\"Circle\"},{\"attributes\":{},\"id\":\"09f04cf6-5c4d-4da2-b6e4-eee756529223\",\"type\":\"BasicTickFormatter\"},{\"attributes\":{\"formatter\":{\"id\":\"15dd4a45-9e85-4f33-a01e-7028aa7969ed\",\"type\":\"BasicTickFormatter\"},\"plot\":{\"id\":\"72f9eb05-2321-4f39-8fbb-25bd9b722c67\",\"subtype\":\"Figure\",\"type\":\"Plot\"},\"ticker\":{\"id\":\"a251d96a-f099-49e6-bb9f-a88dfe84b25f\",\"type\":\"BasicTicker\"}},\"id\":\"371e5050-3063-4f49-a453-7af7b372a91c\",\"type\":\"LinearAxis\"},{\"attributes\":{\"bottom_units\":\"screen\",\"fill_alpha\":{\"value\":0.5},\"fill_color\":{\"value\":\"lightgrey\"},\"left_units\":\"screen\",\"level\":\"overlay\",\"line_alpha\":{\"value\":1.0},\"line_color\":{\"value\":\"black\"},\"line_dash\":[4,4],\"line_width\":{\"value\":2},\"plot\":null,\"render_mode\":\"css\",\"right_units\":\"screen\",\"top_units\":\"screen\"},\"id\":\"d3fe2015-c1f7-4288-9243-934ac1614e5a\",\"type\":\"BoxAnnotation\"},{\"attributes\":{},\"id\":\"a251d96a-f099-49e6-bb9f-a88dfe84b25f\",\"type\":\"BasicTicker\"},{\"attributes\":{},\"id\":\"2a9ab79f-4756-40f8-bcca-f8a5698972a6\",\"type\":\"PanTool\"},{\"attributes\":{\"plot\":{\"id\":\"72f9eb05-2321-4f39-8fbb-25bd9b722c67\",\"subtype\":\"Figure\",\"type\":\"Plot\"},\"ticker\":{\"id\":\"a251d96a-f099-49e6-bb9f-a88dfe84b25f\",\"type\":\"BasicTicker\"}},\"id\":\"5465e0ad-e7f5-4db9-b0ff-e576004823be\",\"type\":\"Grid\"},{\"attributes\":{\"source\":{\"id\":\"8ddf8a30-fe6f-429e-9d64-17920e79666d\",\"type\":\"ColumnDataSource\"}},\"id\":\"3353e201-f1b9-44ae-a46f-fe20762e4ddc\",\"type\":\"CDSView\"},{\"attributes\":{\"formatter\":{\"id\":\"e971415b-5010-4189-90aa-b00fb2314c17\",\"type\":\"BasicTickFormatter\"},\"plot\":{\"id\":\"72f9eb05-2321-4f39-8fbb-25bd9b722c67\",\"subtype\":\"Figure\",\"type\":\"Plot\"},\"ticker\":{\"id\":\"3d9beca8-a4e9-40e2-a712-10fd5461d622\",\"type\":\"BasicTicker\"}},\"id\":\"a64e275c-05fc-49a0-a869-be696ccdc51e\",\"type\":\"LinearAxis\"},{\"attributes\":{},\"id\":\"a733b73d-a13f-4cad-aaca-c2e5c0ade991\",\"type\":\"WheelZoomTool\"},{\"attributes\":{},\"id\":\"3d9beca8-a4e9-40e2-a712-10fd5461d622\",\"type\":\"BasicTicker\"},{\"attributes\":{\"overlay\":{\"id\":\"d3fe2015-c1f7-4288-9243-934ac1614e5a\",\"type\":\"BoxAnnotation\"}},\"id\":\"caf6d86b-ce7b-40a5-ad5c-2abe109b433b\",\"type\":\"BoxZoomTool\"},{\"attributes\":{\"dimension\":1,\"plot\":{\"id\":\"72f9eb05-2321-4f39-8fbb-25bd9b722c67\",\"subtype\":\"Figure\",\"type\":\"Plot\"},\"ticker\":{\"id\":\"3d9beca8-a4e9-40e2-a712-10fd5461d622\",\"type\":\"BasicTicker\"}},\"id\":\"6a1cc522-e8bd-4d57-bbe8-21615471a99f\",\"type\":\"Grid\"},{\"attributes\":{},\"id\":\"ab067c34-cd40-4687-84ac-082ec0b6e72f\",\"type\":\"SaveTool\"},{\"attributes\":{\"callback\":null,\"column_names\":[\"x\",\"y\"],\"data\":{\"x\":[1,2,3],\"y\":[4,5,6]}},\"id\":\"8ddf8a30-fe6f-429e-9d64-17920e79666d\",\"type\":\"ColumnDataSource\"},{\"attributes\":{},\"id\":\"8395cf17-05f3-4ad4-b10a-2c529a9a1159\",\"type\":\"ResetTool\"},{\"attributes\":{\"data_source\":{\"id\":\"64d90bef-afaf-4d9c-bb79-698125ba7760\",\"type\":\"ColumnDataSource\"},\"glyph\":{\"id\":\"14f7fad7-637d-4b4f-8efd-8d3a2c76e3fa\",\"type\":\"Circle\"},\"hover_glyph\":null,\"muted_glyph\":null,\"nonselection_glyph\":{\"id\":\"23301856-2602-4a9c-bbeb-2a63451dcfc4\",\"type\":\"Circle\"},\"selection_glyph\":null,\"view\":{\"id\":\"3d616095-e454-4d70-aa15-3796770e5704\",\"type\":\"CDSView\"}},\"id\":\"3493b01d-158a-421a-b1f4-02f9269ee8be\",\"type\":\"GlyphRenderer\"},{\"attributes\":{},\"id\":\"d129cc7f-f9de-4f76-a009-a9ba4b6dc0da\",\"type\":\"HelpTool\"},{\"attributes\":{\"fill_color\":{\"value\":\"#1f77b4\"},\"line_color\":{\"value\":\"#1f77b4\"},\"size\":{\"units\":\"screen\",\"value\":20},\"x\":{\"field\":\"x\"},\"y\":{\"field\":\"y\"}},\"id\":\"14f7fad7-637d-4b4f-8efd-8d3a2c76e3fa\",\"type\":\"Circle\"},{\"attributes\":{\"plot\":null,\"text\":\"\"},\"id\":\"cb731ea4-65c4-4810-9831-df12b8732b3e\",\"type\":\"Title\"},{\"attributes\":{\"below\":[{\"id\":\"ef596288-d556-4c68-8024-82f7181b63e9\",\"type\":\"LinearAxis\"}],\"left\":[{\"id\":\"c0d60f07-7234-4eee-8dec-9f8e396ac04f\",\"type\":\"LinearAxis\"}],\"min_border\":0,\"plot_height\":250,\"plot_width\":250,\"renderers\":[{\"id\":\"ef596288-d556-4c68-8024-82f7181b63e9\",\"type\":\"LinearAxis\"},{\"id\":\"4c6faa73-b42a-49f9-b35f-744d67a42f81\",\"type\":\"Grid\"},{\"id\":\"c0d60f07-7234-4eee-8dec-9f8e396ac04f\",\"type\":\"LinearAxis\"},{\"id\":\"0a81e801-282d-4f4b-bedc-c973cb65f058\",\"type\":\"Grid\"},{\"id\":\"d3fe2015-c1f7-4288-9243-934ac1614e5a\",\"type\":\"BoxAnnotation\"},{\"id\":\"e4fe0f1b-811f-466a-811c-3501c69b6967\",\"type\":\"GlyphRenderer\"}],\"title\":{\"id\":\"cb731ea4-65c4-4810-9831-df12b8732b3e\",\"type\":\"Title\"},\"toolbar\":{\"id\":\"85268e4e-6f6c-46d1-9c97-458d97447c50\",\"type\":\"Toolbar\"},\"x_range\":{\"id\":\"8bcf4aa2-2c4c-498a-8e01-15decf47540a\",\"type\":\"DataRange1d\"},\"x_scale\":{\"id\":\"9d2e91a1-ba71-4ca9-b508-93a9ca0565cf\",\"type\":\"LinearScale\"},\"y_range\":{\"id\":\"592a40c6-086d-437a-980d-dc88ba39e504\",\"type\":\"DataRange1d\"},\"y_scale\":{\"id\":\"6bcf6793-3bc8-4869-83a2-ab5c62928c8f\",\"type\":\"LinearScale\"}},\"id\":\"c0627a98-9bda-4a2b-a0ce-fb9e510fc966\",\"subtype\":\"Figure\",\"type\":\"Plot\"},{\"attributes\":{},\"id\":\"68b9d495-2213-4068-aa92-f66af8bbe975\",\"type\":\"BasicTickFormatter\"},{\"attributes\":{},\"id\":\"da356149-12f2-4e28-935d-94d58d1ea9eb\",\"type\":\"PanTool\"},{\"attributes\":{},\"id\":\"e75f4ba6-ebad-4b16-8965-37262af6ffa5\",\"type\":\"ResetTool\"},{\"attributes\":{},\"id\":\"e4902ba0-edc8-421a-b348-ef9c4c39f259\",\"type\":\"WheelZoomTool\"},{\"attributes\":{\"overlay\":{\"id\":\"9581bac8-fb5d-44fc-b29c-7c24dc899d90\",\"type\":\"BoxAnnotation\"}},\"id\":\"c407e3af-4007-4ab5-920a-74de7f6c692b\",\"type\":\"BoxZoomTool\"},{\"attributes\":{},\"id\":\"bc832fdd-339a-40d2-b6d5-bac7e7563206\",\"type\":\"SaveTool\"}],\"root_ids\":[\"30b8125c-8005-4334-8b09-7fbce15c0842\"]},\"title\":\"Bokeh Application\",\"version\":\"0.12.13\"}};\n",
       "  var render_items = [{\"docid\":\"dffcd7d2-b235-4c4b-88a3-0b4f6558514d\",\"elementid\":\"b03a35a3-dbaa-4649-b074-4b8065107741\",\"modelid\":\"30b8125c-8005-4334-8b09-7fbce15c0842\",\"notebook_comms_target\":\"ddcc7f4d-57ec-48da-8308-a1f6884b8dbd\"}];\n",
       "  root.Bokeh.embed.embed_items_notebook(docs_json, render_items);\n",
       "\n",
       "  }\n",
       "  if (root.Bokeh !== undefined) {\n",
       "    embed_document(root);\n",
       "  } else {\n",
       "    var attempts = 0;\n",
       "    var timer = setInterval(function(root) {\n",
       "      if (root.Bokeh !== undefined) {\n",
       "        embed_document(root);\n",
       "        clearInterval(timer);\n",
       "      }\n",
       "      attempts++;\n",
       "      if (attempts > 100) {\n",
       "        console.log(\"Bokeh: ERROR: Unable to run BokehJS code because BokehJS library is missing\")\n",
       "        clearInterval(timer);\n",
       "      }\n",
       "    }, 10, root)\n",
       "  }\n",
       "})(window);"
      ],
      "application/vnd.bokehjs_exec.v0+json": ""
     },
     "metadata": {
      "application/vnd.bokehjs_exec.v0+json": {
       "id": "30b8125c-8005-4334-8b09-7fbce15c0842"
      }
     },
     "output_type": "display_data"
    }
   ],
   "source": [
    "p1 = figure(**opts)\n",
    "r1 = p1.circle([1,2,3], [4,5,6], size=20)\n",
    "\n",
    "p2 = figure(**opts)\n",
    "r2 = p2.circle([1,2,3], [4,5,6], size=20)\n",
    "\n",
    "# get a handle to update the shown cell with\n",
    "t = show(row(p1, p2), notebook_handle=True)"
   ]
  },
  {
   "cell_type": "code",
   "execution_count": 4,
   "metadata": {},
   "outputs": [
    {
     "data": {
      "text/html": [
       "<p><code>&lt;Bokeh Notebook handle for <strong>In[3]</strong>&gt;</code></p>"
      ],
      "text/plain": [
       "<bokeh.io.notebook.CommsHandle at 0x1c0eea24b70>"
      ]
     },
     "execution_count": 4,
     "metadata": {},
     "output_type": "execute_result"
    }
   ],
   "source": [
    "# the comms handle repr show what cell it can be used to update\n",
    "t"
   ]
  },
  {
   "cell_type": "code",
   "execution_count": 5,
   "metadata": {},
   "outputs": [],
   "source": [
    "# this will update the left plot circle color with an explicit handle\n",
    "r1.glyph.fill_color = \"white\"\n",
    "push_notebook(handle=t)"
   ]
  },
  {
   "cell_type": "code",
   "execution_count": 6,
   "metadata": {},
   "outputs": [],
   "source": [
    "# and this will update the right plot circle color because it was in the last shown cell\n",
    "r2.glyph.fill_color = \"pink\"\n",
    "push_notebook()"
   ]
  },
  {
   "cell_type": "code",
   "execution_count": 7,
   "metadata": {},
   "outputs": [
    {
     "data": {
      "text/html": [
       "\n",
       "<div class=\"bk-root\">\n",
       "    <div class=\"bk-plotdiv\" id=\"0211b141-1b68-430d-a578-2d55d4d8a040\"></div>\n",
       "</div>"
      ]
     },
     "metadata": {},
     "output_type": "display_data"
    },
    {
     "data": {
      "application/javascript": [
       "(function(root) {\n",
       "  function embed_document(root) {\n",
       "    \n",
       "  var docs_json = {\"0797c71b-db88-4cfd-ba62-08255c67ab51\":{\"roots\":{\"references\":[{\"attributes\":{},\"id\":\"e6153b51-7815-45b6-9fd8-83b30787ce14\",\"type\":\"BasicTickFormatter\"},{\"attributes\":{\"bottom_units\":\"screen\",\"fill_alpha\":{\"value\":0.5},\"fill_color\":{\"value\":\"lightgrey\"},\"left_units\":\"screen\",\"level\":\"overlay\",\"line_alpha\":{\"value\":1.0},\"line_color\":{\"value\":\"black\"},\"line_dash\":[4,4],\"line_width\":{\"value\":2},\"plot\":null,\"render_mode\":\"css\",\"right_units\":\"screen\",\"top_units\":\"screen\"},\"id\":\"5ed2a01f-91ba-4556-8715-a06a5d56478d\",\"type\":\"BoxAnnotation\"},{\"attributes\":{\"callback\":null,\"column_names\":[\"x\",\"y\"],\"data\":{\"x\":[1,2,3],\"y\":[4,5,6]}},\"id\":\"db6829df-8f92-4bd3-a8db-f9924691aa11\",\"type\":\"ColumnDataSource\"},{\"attributes\":{},\"id\":\"fc3dd99e-2ad0-47e9-b7fe-30765de2e76e\",\"type\":\"PanTool\"},{\"attributes\":{\"source\":{\"id\":\"db6829df-8f92-4bd3-a8db-f9924691aa11\",\"type\":\"ColumnDataSource\"}},\"id\":\"3dd48139-6bc2-432f-a7d5-602cd8c4cf8c\",\"type\":\"CDSView\"},{\"attributes\":{\"below\":[{\"id\":\"fbab5d06-0ab9-4968-aeb3-fcd9cf23a8a8\",\"type\":\"LinearAxis\"}],\"left\":[{\"id\":\"45038e09-04a1-4d2c-805f-08c9f83e1496\",\"type\":\"LinearAxis\"}],\"min_border\":0,\"plot_height\":250,\"plot_width\":250,\"renderers\":[{\"id\":\"fbab5d06-0ab9-4968-aeb3-fcd9cf23a8a8\",\"type\":\"LinearAxis\"},{\"id\":\"e34acfe1-6f51-4e4b-922e-84208bda9a58\",\"type\":\"Grid\"},{\"id\":\"45038e09-04a1-4d2c-805f-08c9f83e1496\",\"type\":\"LinearAxis\"},{\"id\":\"e366cdf6-3a27-40cb-be28-a96bcd83564a\",\"type\":\"Grid\"},{\"id\":\"5ed2a01f-91ba-4556-8715-a06a5d56478d\",\"type\":\"BoxAnnotation\"},{\"id\":\"53923648-6182-4a8a-92d3-121f04e6561b\",\"type\":\"GlyphRenderer\"}],\"title\":{\"id\":\"9962e43d-e47e-4f0e-a5db-63d685c29592\",\"type\":\"Title\"},\"toolbar\":{\"id\":\"6b671aa2-f5f4-4c5b-bf0f-6c360026224d\",\"type\":\"Toolbar\"},\"x_range\":{\"id\":\"06d9aa28-dbee-45e9-9dce-322861e7ce1b\",\"type\":\"DataRange1d\"},\"x_scale\":{\"id\":\"5a6dd652-4938-4214-970c-8fc8fa663619\",\"type\":\"LinearScale\"},\"y_range\":{\"id\":\"a03b22b1-e27f-4282-a502-227dcee3440c\",\"type\":\"DataRange1d\"},\"y_scale\":{\"id\":\"f66cefa3-9ab6-488d-b533-cde762a7ee80\",\"type\":\"LinearScale\"}},\"id\":\"fe9d4756-c4b7-414a-ba59-75704af1b42c\",\"subtype\":\"Figure\",\"type\":\"Plot\"},{\"attributes\":{},\"id\":\"4ab27b89-715a-4c56-8c3e-b2f1e1d08bce\",\"type\":\"WheelZoomTool\"},{\"attributes\":{\"data_source\":{\"id\":\"db6829df-8f92-4bd3-a8db-f9924691aa11\",\"type\":\"ColumnDataSource\"},\"glyph\":{\"id\":\"5845b216-e8d8-40b3-9ebc-b53beaf725ea\",\"type\":\"Circle\"},\"hover_glyph\":null,\"muted_glyph\":null,\"nonselection_glyph\":{\"id\":\"00bb6778-9d62-4f92-a08a-7e5dc0d28936\",\"type\":\"Circle\"},\"selection_glyph\":null,\"view\":{\"id\":\"3dd48139-6bc2-432f-a7d5-602cd8c4cf8c\",\"type\":\"CDSView\"}},\"id\":\"53923648-6182-4a8a-92d3-121f04e6561b\",\"type\":\"GlyphRenderer\"},{\"attributes\":{\"overlay\":{\"id\":\"5ed2a01f-91ba-4556-8715-a06a5d56478d\",\"type\":\"BoxAnnotation\"}},\"id\":\"362466a9-e254-4fc2-82a1-27bca377206c\",\"type\":\"BoxZoomTool\"},{\"attributes\":{\"callback\":null},\"id\":\"a03b22b1-e27f-4282-a502-227dcee3440c\",\"type\":\"DataRange1d\"},{\"attributes\":{},\"id\":\"a5eacf34-2ae4-48b3-8ee3-0220eb3f95a8\",\"type\":\"SaveTool\"},{\"attributes\":{},\"id\":\"5a6dd652-4938-4214-970c-8fc8fa663619\",\"type\":\"LinearScale\"},{\"attributes\":{},\"id\":\"1d5d0d54-1300-4b1f-a48f-26606aaa39e7\",\"type\":\"ResetTool\"},{\"attributes\":{},\"id\":\"f66cefa3-9ab6-488d-b533-cde762a7ee80\",\"type\":\"LinearScale\"},{\"attributes\":{},\"id\":\"69dcd1c1-63d5-4ebd-ba29-00121ae10b0f\",\"type\":\"HelpTool\"},{\"attributes\":{\"plot\":{\"id\":\"fe9d4756-c4b7-414a-ba59-75704af1b42c\",\"subtype\":\"Figure\",\"type\":\"Plot\"},\"ticker\":{\"id\":\"865d31ea-90dc-43f3-841c-5a0dec36c06b\",\"type\":\"BasicTicker\"}},\"id\":\"e34acfe1-6f51-4e4b-922e-84208bda9a58\",\"type\":\"Grid\"},{\"attributes\":{\"formatter\":{\"id\":\"e6153b51-7815-45b6-9fd8-83b30787ce14\",\"type\":\"BasicTickFormatter\"},\"plot\":{\"id\":\"fe9d4756-c4b7-414a-ba59-75704af1b42c\",\"subtype\":\"Figure\",\"type\":\"Plot\"},\"ticker\":{\"id\":\"865d31ea-90dc-43f3-841c-5a0dec36c06b\",\"type\":\"BasicTicker\"}},\"id\":\"fbab5d06-0ab9-4968-aeb3-fcd9cf23a8a8\",\"type\":\"LinearAxis\"},{\"attributes\":{},\"id\":\"865d31ea-90dc-43f3-841c-5a0dec36c06b\",\"type\":\"BasicTicker\"},{\"attributes\":{\"plot\":null,\"text\":\"\"},\"id\":\"9962e43d-e47e-4f0e-a5db-63d685c29592\",\"type\":\"Title\"},{\"attributes\":{\"formatter\":{\"id\":\"d8330e98-0a78-4011-a6f9-13efbabbc368\",\"type\":\"BasicTickFormatter\"},\"plot\":{\"id\":\"fe9d4756-c4b7-414a-ba59-75704af1b42c\",\"subtype\":\"Figure\",\"type\":\"Plot\"},\"ticker\":{\"id\":\"d3291a89-28cf-418b-bad8-6a02c1d6ef19\",\"type\":\"BasicTicker\"}},\"id\":\"45038e09-04a1-4d2c-805f-08c9f83e1496\",\"type\":\"LinearAxis\"},{\"attributes\":{\"active_drag\":\"auto\",\"active_inspect\":\"auto\",\"active_scroll\":\"auto\",\"active_tap\":\"auto\",\"tools\":[{\"id\":\"fc3dd99e-2ad0-47e9-b7fe-30765de2e76e\",\"type\":\"PanTool\"},{\"id\":\"4ab27b89-715a-4c56-8c3e-b2f1e1d08bce\",\"type\":\"WheelZoomTool\"},{\"id\":\"362466a9-e254-4fc2-82a1-27bca377206c\",\"type\":\"BoxZoomTool\"},{\"id\":\"a5eacf34-2ae4-48b3-8ee3-0220eb3f95a8\",\"type\":\"SaveTool\"},{\"id\":\"1d5d0d54-1300-4b1f-a48f-26606aaa39e7\",\"type\":\"ResetTool\"},{\"id\":\"69dcd1c1-63d5-4ebd-ba29-00121ae10b0f\",\"type\":\"HelpTool\"}]},\"id\":\"6b671aa2-f5f4-4c5b-bf0f-6c360026224d\",\"type\":\"Toolbar\"},{\"attributes\":{},\"id\":\"d8330e98-0a78-4011-a6f9-13efbabbc368\",\"type\":\"BasicTickFormatter\"},{\"attributes\":{},\"id\":\"d3291a89-28cf-418b-bad8-6a02c1d6ef19\",\"type\":\"BasicTicker\"},{\"attributes\":{\"dimension\":1,\"plot\":{\"id\":\"fe9d4756-c4b7-414a-ba59-75704af1b42c\",\"subtype\":\"Figure\",\"type\":\"Plot\"},\"ticker\":{\"id\":\"d3291a89-28cf-418b-bad8-6a02c1d6ef19\",\"type\":\"BasicTicker\"}},\"id\":\"e366cdf6-3a27-40cb-be28-a96bcd83564a\",\"type\":\"Grid\"},{\"attributes\":{\"callback\":null},\"id\":\"06d9aa28-dbee-45e9-9dce-322861e7ce1b\",\"type\":\"DataRange1d\"},{\"attributes\":{\"fill_alpha\":{\"value\":0.1},\"fill_color\":{\"value\":\"#1f77b4\"},\"line_alpha\":{\"value\":0.1},\"line_color\":{\"value\":\"#1f77b4\"},\"size\":{\"units\":\"screen\",\"value\":20},\"x\":{\"field\":\"x\"},\"y\":{\"field\":\"y\"}},\"id\":\"00bb6778-9d62-4f92-a08a-7e5dc0d28936\",\"type\":\"Circle\"},{\"attributes\":{\"fill_color\":{\"value\":\"#1f77b4\"},\"line_color\":{\"value\":\"#1f77b4\"},\"size\":{\"units\":\"screen\",\"value\":20},\"x\":{\"field\":\"x\"},\"y\":{\"field\":\"y\"}},\"id\":\"5845b216-e8d8-40b3-9ebc-b53beaf725ea\",\"type\":\"Circle\"}],\"root_ids\":[\"fe9d4756-c4b7-414a-ba59-75704af1b42c\"]},\"title\":\"Bokeh Application\",\"version\":\"0.12.13\"}};\n",
       "  var render_items = [{\"docid\":\"0797c71b-db88-4cfd-ba62-08255c67ab51\",\"elementid\":\"0211b141-1b68-430d-a578-2d55d4d8a040\",\"modelid\":\"fe9d4756-c4b7-414a-ba59-75704af1b42c\",\"notebook_comms_target\":\"460472b4-05ef-4dc3-9740-6722f9cd02bc\"}];\n",
       "  root.Bokeh.embed.embed_items_notebook(docs_json, render_items);\n",
       "\n",
       "  }\n",
       "  if (root.Bokeh !== undefined) {\n",
       "    embed_document(root);\n",
       "  } else {\n",
       "    var attempts = 0;\n",
       "    var timer = setInterval(function(root) {\n",
       "      if (root.Bokeh !== undefined) {\n",
       "        embed_document(root);\n",
       "        clearInterval(timer);\n",
       "      }\n",
       "      attempts++;\n",
       "      if (attempts > 100) {\n",
       "        console.log(\"Bokeh: ERROR: Unable to run BokehJS code because BokehJS library is missing\")\n",
       "        clearInterval(timer);\n",
       "      }\n",
       "    }, 10, root)\n",
       "  }\n",
       "})(window);"
      ],
      "application/vnd.bokehjs_exec.v0+json": ""
     },
     "metadata": {
      "application/vnd.bokehjs_exec.v0+json": {
       "id": "fe9d4756-c4b7-414a-ba59-75704af1b42c"
      }
     },
     "output_type": "display_data"
    }
   ],
   "source": [
    "p3 = figure(**opts)\n",
    "r3 = p3.circle([1,2,3], [4,5,6], size=20)\n",
    "\n",
    "# get a handle to update the shown cell with\n",
    "t2 = show(p3, notebook_handle=True) "
   ]
  },
  {
   "cell_type": "code",
   "execution_count": 8,
   "metadata": {},
   "outputs": [
    {
     "data": {
      "text/html": [
       "<p><code>&lt;Bokeh Notebook handle for <strong>In[7]</strong>&gt;</code></p>"
      ],
      "text/plain": [
       "<bokeh.io.notebook.CommsHandle at 0x1c0eea6bba8>"
      ]
     },
     "execution_count": 8,
     "metadata": {},
     "output_type": "execute_result"
    }
   ],
   "source": [
    "# show which cell t2 handles\n",
    "t2"
   ]
  },
  {
   "cell_type": "code",
   "execution_count": 9,
   "metadata": {},
   "outputs": [],
   "source": [
    "# this updates the immediately previous cell with an explicit handle\n",
    "r3.glyph.fill_color = \"orange\"\n",
    "push_notebook(handle=t2)"
   ]
  },
  {
   "cell_type": "code",
   "execution_count": 10,
   "metadata": {},
   "outputs": [],
   "source": [
    "# this updates the left plot at the top with an explicit handle\n",
    "r1.glyph.fill_color = \"orange\"\n",
    "push_notebook(handle=t)"
   ]
  },
  {
   "cell_type": "code",
   "execution_count": 11,
   "metadata": {},
   "outputs": [
    {
     "data": {
      "text/html": [
       "\n",
       "<div class=\"bk-root\">\n",
       "    <div class=\"bk-plotdiv\" id=\"f0c388f3-b31a-4dea-8030-b647b8e9d368\"></div>\n",
       "</div>"
      ]
     },
     "metadata": {},
     "output_type": "display_data"
    },
    {
     "data": {
      "application/javascript": [
       "(function(root) {\n",
       "  function embed_document(root) {\n",
       "    \n",
       "  var docs_json = {\"ea17e3bf-7043-4754-9701-0188d4d74a9f\":{\"roots\":{\"references\":[{\"attributes\":{\"fill_color\":{\"value\":\"pink\"},\"line_color\":{\"value\":\"#1f77b4\"},\"size\":{\"units\":\"screen\",\"value\":20},\"x\":{\"field\":\"x\"},\"y\":{\"field\":\"y\"}},\"id\":\"ca8b0a22-72a7-4def-ae17-924fa837530e\",\"type\":\"Circle\"},{\"attributes\":{},\"id\":\"09f04cf6-5c4d-4da2-b6e4-eee756529223\",\"type\":\"BasicTickFormatter\"},{\"attributes\":{\"bottom_units\":\"screen\",\"fill_alpha\":{\"value\":0.5},\"fill_color\":{\"value\":\"lightgrey\"},\"left_units\":\"screen\",\"level\":\"overlay\",\"line_alpha\":{\"value\":1.0},\"line_color\":{\"value\":\"black\"},\"line_dash\":[4,4],\"line_width\":{\"value\":2},\"plot\":null,\"render_mode\":\"css\",\"right_units\":\"screen\",\"top_units\":\"screen\"},\"id\":\"d3fe2015-c1f7-4288-9243-934ac1614e5a\",\"type\":\"BoxAnnotation\"},{\"attributes\":{},\"id\":\"2a9ab79f-4756-40f8-bcca-f8a5698972a6\",\"type\":\"PanTool\"},{\"attributes\":{\"active_drag\":\"auto\",\"active_inspect\":\"auto\",\"active_scroll\":\"auto\",\"active_tap\":\"auto\",\"tools\":[{\"id\":\"2a9ab79f-4756-40f8-bcca-f8a5698972a6\",\"type\":\"PanTool\"},{\"id\":\"a733b73d-a13f-4cad-aaca-c2e5c0ade991\",\"type\":\"WheelZoomTool\"},{\"id\":\"caf6d86b-ce7b-40a5-ad5c-2abe109b433b\",\"type\":\"BoxZoomTool\"},{\"id\":\"ab067c34-cd40-4687-84ac-082ec0b6e72f\",\"type\":\"SaveTool\"},{\"id\":\"8395cf17-05f3-4ad4-b10a-2c529a9a1159\",\"type\":\"ResetTool\"},{\"id\":\"d129cc7f-f9de-4f76-a009-a9ba4b6dc0da\",\"type\":\"HelpTool\"}]},\"id\":\"85268e4e-6f6c-46d1-9c97-458d97447c50\",\"type\":\"Toolbar\"},{\"attributes\":{\"source\":{\"id\":\"8ddf8a30-fe6f-429e-9d64-17920e79666d\",\"type\":\"ColumnDataSource\"}},\"id\":\"3353e201-f1b9-44ae-a46f-fe20762e4ddc\",\"type\":\"CDSView\"},{\"attributes\":{},\"id\":\"a733b73d-a13f-4cad-aaca-c2e5c0ade991\",\"type\":\"WheelZoomTool\"},{\"attributes\":{\"overlay\":{\"id\":\"d3fe2015-c1f7-4288-9243-934ac1614e5a\",\"type\":\"BoxAnnotation\"}},\"id\":\"caf6d86b-ce7b-40a5-ad5c-2abe109b433b\",\"type\":\"BoxZoomTool\"},{\"attributes\":{\"plot\":{\"id\":\"c0627a98-9bda-4a2b-a0ce-fb9e510fc966\",\"subtype\":\"Figure\",\"type\":\"Plot\"},\"ticker\":{\"id\":\"bc869cc7-9b32-418c-a503-a9ccf34792a2\",\"type\":\"BasicTicker\"}},\"id\":\"4c6faa73-b42a-49f9-b35f-744d67a42f81\",\"type\":\"Grid\"},{\"attributes\":{},\"id\":\"ab067c34-cd40-4687-84ac-082ec0b6e72f\",\"type\":\"SaveTool\"},{\"attributes\":{},\"id\":\"9d2e91a1-ba71-4ca9-b508-93a9ca0565cf\",\"type\":\"LinearScale\"},{\"attributes\":{\"callback\":null,\"column_names\":[\"x\",\"y\"],\"data\":{\"x\":[1,2,3],\"y\":[4,5,6]}},\"id\":\"8ddf8a30-fe6f-429e-9d64-17920e79666d\",\"type\":\"ColumnDataSource\"},{\"attributes\":{},\"id\":\"8395cf17-05f3-4ad4-b10a-2c529a9a1159\",\"type\":\"ResetTool\"},{\"attributes\":{\"callback\":null},\"id\":\"592a40c6-086d-437a-980d-dc88ba39e504\",\"type\":\"DataRange1d\"},{\"attributes\":{},\"id\":\"d129cc7f-f9de-4f76-a009-a9ba4b6dc0da\",\"type\":\"HelpTool\"},{\"attributes\":{\"callback\":null},\"id\":\"8bcf4aa2-2c4c-498a-8e01-15decf47540a\",\"type\":\"DataRange1d\"},{\"attributes\":{},\"id\":\"6bcf6793-3bc8-4869-83a2-ab5c62928c8f\",\"type\":\"LinearScale\"},{\"attributes\":{\"fill_alpha\":{\"value\":0.1},\"fill_color\":{\"value\":\"#1f77b4\"},\"line_alpha\":{\"value\":0.1},\"line_color\":{\"value\":\"#1f77b4\"},\"size\":{\"units\":\"screen\",\"value\":20},\"x\":{\"field\":\"x\"},\"y\":{\"field\":\"y\"}},\"id\":\"6423047c-384d-4d66-89bd-c174ba58f6c1\",\"type\":\"Circle\"},{\"attributes\":{\"plot\":null,\"text\":\"\"},\"id\":\"cb731ea4-65c4-4810-9831-df12b8732b3e\",\"type\":\"Title\"},{\"attributes\":{\"formatter\":{\"id\":\"09f04cf6-5c4d-4da2-b6e4-eee756529223\",\"type\":\"BasicTickFormatter\"},\"plot\":{\"id\":\"c0627a98-9bda-4a2b-a0ce-fb9e510fc966\",\"subtype\":\"Figure\",\"type\":\"Plot\"},\"ticker\":{\"id\":\"bc869cc7-9b32-418c-a503-a9ccf34792a2\",\"type\":\"BasicTicker\"}},\"id\":\"ef596288-d556-4c68-8024-82f7181b63e9\",\"type\":\"LinearAxis\"},{\"attributes\":{\"below\":[{\"id\":\"ef596288-d556-4c68-8024-82f7181b63e9\",\"type\":\"LinearAxis\"}],\"left\":[{\"id\":\"c0d60f07-7234-4eee-8dec-9f8e396ac04f\",\"type\":\"LinearAxis\"}],\"min_border\":0,\"plot_height\":250,\"plot_width\":250,\"renderers\":[{\"id\":\"ef596288-d556-4c68-8024-82f7181b63e9\",\"type\":\"LinearAxis\"},{\"id\":\"4c6faa73-b42a-49f9-b35f-744d67a42f81\",\"type\":\"Grid\"},{\"id\":\"c0d60f07-7234-4eee-8dec-9f8e396ac04f\",\"type\":\"LinearAxis\"},{\"id\":\"0a81e801-282d-4f4b-bedc-c973cb65f058\",\"type\":\"Grid\"},{\"id\":\"d3fe2015-c1f7-4288-9243-934ac1614e5a\",\"type\":\"BoxAnnotation\"},{\"id\":\"e4fe0f1b-811f-466a-811c-3501c69b6967\",\"type\":\"GlyphRenderer\"}],\"title\":{\"id\":\"cb731ea4-65c4-4810-9831-df12b8732b3e\",\"type\":\"Title\"},\"toolbar\":{\"id\":\"85268e4e-6f6c-46d1-9c97-458d97447c50\",\"type\":\"Toolbar\"},\"x_range\":{\"id\":\"8bcf4aa2-2c4c-498a-8e01-15decf47540a\",\"type\":\"DataRange1d\"},\"x_scale\":{\"id\":\"9d2e91a1-ba71-4ca9-b508-93a9ca0565cf\",\"type\":\"LinearScale\"},\"y_range\":{\"id\":\"592a40c6-086d-437a-980d-dc88ba39e504\",\"type\":\"DataRange1d\"},\"y_scale\":{\"id\":\"6bcf6793-3bc8-4869-83a2-ab5c62928c8f\",\"type\":\"LinearScale\"}},\"id\":\"c0627a98-9bda-4a2b-a0ce-fb9e510fc966\",\"subtype\":\"Figure\",\"type\":\"Plot\"},{\"attributes\":{},\"id\":\"68b9d495-2213-4068-aa92-f66af8bbe975\",\"type\":\"BasicTickFormatter\"},{\"attributes\":{},\"id\":\"bc869cc7-9b32-418c-a503-a9ccf34792a2\",\"type\":\"BasicTicker\"},{\"attributes\":{\"formatter\":{\"id\":\"68b9d495-2213-4068-aa92-f66af8bbe975\",\"type\":\"BasicTickFormatter\"},\"plot\":{\"id\":\"c0627a98-9bda-4a2b-a0ce-fb9e510fc966\",\"subtype\":\"Figure\",\"type\":\"Plot\"},\"ticker\":{\"id\":\"d133ca73-108e-47f3-b29b-05af37677bd9\",\"type\":\"BasicTicker\"}},\"id\":\"c0d60f07-7234-4eee-8dec-9f8e396ac04f\",\"type\":\"LinearAxis\"},{\"attributes\":{},\"id\":\"d133ca73-108e-47f3-b29b-05af37677bd9\",\"type\":\"BasicTicker\"},{\"attributes\":{\"dimension\":1,\"plot\":{\"id\":\"c0627a98-9bda-4a2b-a0ce-fb9e510fc966\",\"subtype\":\"Figure\",\"type\":\"Plot\"},\"ticker\":{\"id\":\"d133ca73-108e-47f3-b29b-05af37677bd9\",\"type\":\"BasicTicker\"}},\"id\":\"0a81e801-282d-4f4b-bedc-c973cb65f058\",\"type\":\"Grid\"},{\"attributes\":{\"data_source\":{\"id\":\"8ddf8a30-fe6f-429e-9d64-17920e79666d\",\"type\":\"ColumnDataSource\"},\"glyph\":{\"id\":\"ca8b0a22-72a7-4def-ae17-924fa837530e\",\"type\":\"Circle\"},\"hover_glyph\":null,\"muted_glyph\":null,\"nonselection_glyph\":{\"id\":\"6423047c-384d-4d66-89bd-c174ba58f6c1\",\"type\":\"Circle\"},\"selection_glyph\":null,\"view\":{\"id\":\"3353e201-f1b9-44ae-a46f-fe20762e4ddc\",\"type\":\"CDSView\"}},\"id\":\"e4fe0f1b-811f-466a-811c-3501c69b6967\",\"type\":\"GlyphRenderer\"}],\"root_ids\":[\"c0627a98-9bda-4a2b-a0ce-fb9e510fc966\"]},\"title\":\"Bokeh Application\",\"version\":\"0.12.13\"}};\n",
       "  var render_items = [{\"docid\":\"ea17e3bf-7043-4754-9701-0188d4d74a9f\",\"elementid\":\"f0c388f3-b31a-4dea-8030-b647b8e9d368\",\"modelid\":\"c0627a98-9bda-4a2b-a0ce-fb9e510fc966\",\"notebook_comms_target\":\"a411f5c2-894d-4dfe-b6f5-ddbf15d4e123\"}];\n",
       "  root.Bokeh.embed.embed_items_notebook(docs_json, render_items);\n",
       "\n",
       "  }\n",
       "  if (root.Bokeh !== undefined) {\n",
       "    embed_document(root);\n",
       "  } else {\n",
       "    var attempts = 0;\n",
       "    var timer = setInterval(function(root) {\n",
       "      if (root.Bokeh !== undefined) {\n",
       "        embed_document(root);\n",
       "        clearInterval(timer);\n",
       "      }\n",
       "      attempts++;\n",
       "      if (attempts > 100) {\n",
       "        console.log(\"Bokeh: ERROR: Unable to run BokehJS code because BokehJS library is missing\")\n",
       "        clearInterval(timer);\n",
       "      }\n",
       "    }, 10, root)\n",
       "  }\n",
       "})(window);"
      ],
      "application/vnd.bokehjs_exec.v0+json": ""
     },
     "metadata": {
      "application/vnd.bokehjs_exec.v0+json": {
       "id": "c0627a98-9bda-4a2b-a0ce-fb9e510fc966"
      }
     },
     "output_type": "display_data"
    }
   ],
   "source": [
    "# get a handle to update the shown cell with\n",
    "t3 = show(p2, notebook_handle=True)"
   ]
  },
  {
   "cell_type": "code",
   "execution_count": 12,
   "metadata": {},
   "outputs": [],
   "source": [
    "# this will update the immediately previous plot circle color because it was in the last shown cell\n",
    "r2.glyph.fill_color = \"red\"\n",
    "push_notebook()"
   ]
  },
  {
   "cell_type": "code",
   "execution_count": 13,
   "metadata": {},
   "outputs": [],
   "source": [
    "# this will update the immediately previous plot circle color with an explicit handle\n",
    "r2.glyph.fill_color = \"blue\"\n",
    "push_notebook(handle=t3)"
   ]
  },
  {
   "cell_type": "code",
   "execution_count": null,
   "metadata": {},
   "outputs": [],
   "source": []
  },
  {
   "cell_type": "code",
   "execution_count": null,
   "metadata": {},
   "outputs": [],
   "source": []
  }
 ],
 "metadata": {
  "kernelspec": {
   "display_name": "Python 3",
   "language": "python",
   "name": "python3"
  },
  "language_info": {
   "codemirror_mode": {
    "name": "ipython",
    "version": 3
   },
   "file_extension": ".py",
   "mimetype": "text/x-python",
   "name": "python",
   "nbconvert_exporter": "python",
   "pygments_lexer": "ipython3",
   "version": "3.6.4"
  }
 },
 "nbformat": 4,
 "nbformat_minor": 1
}
